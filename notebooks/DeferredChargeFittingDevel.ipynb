{
 "cells": [
  {
   "cell_type": "code",
   "execution_count": 1,
   "metadata": {},
   "outputs": [],
   "source": [
    "%matplotlib inline\n",
    "import argparse\n",
    "import errno\n",
    "import os\n",
    "import numpy as np\n",
    "from os.path import join\n",
    "import scipy\n",
    "from astropy.io import fits\n",
    "import matplotlib.pyplot as plt\n",
    "from matplotlib.colors import SymLogNorm, LogNorm\n",
    "from lmfit import Minimizer, Parameters\n",
    "import pickle\n",
    "\n",
    "import scipy.interpolate as interp\n",
    "\n",
    "from ctisim import ITL_AMP_GEOM, E2V_AMP_GEOM\n",
    "from ctisim.fitting import SimpleModel, SimulatedModel\n",
    "from ctisim.utils import OverscanParameterResults\n",
    "from ctisim import LinearTrap, SplineTrap\n",
    "from ctisim.correction import trap_operator, electronics_operator\n",
    "\n",
    "RAFT_NAMES = ['R01', 'R02', 'R03', \n",
    "              'R10', 'R13', 'R14',\n",
    "              'R20', 'R23', 'R24',\n",
    "              'R31', 'R32', 'R33', 'R34',\n",
    "              'R41', 'R42', 'R43']\n",
    "\n",
    "CCD_NAMES = ['S00', 'S01', 'S02',\n",
    "             'S10', 'S11', 'S12',\n",
    "             'S20', 'S21', 'S22']\n",
    "\n",
    "directory = '/nfs/slac/g/ki/ki19/lsst/snyder18/LSST/Data/BOT/6790D_linearity/R02/S02'\n",
    "sensor_id = 'R02_S02'"
   ]
  },
  {
   "cell_type": "markdown",
   "metadata": {},
   "source": [
    "## Electronics Fit"
   ]
  },
  {
   "cell_type": "code",
   "execution_count": 2,
   "metadata": {},
   "outputs": [],
   "source": [
    "## Config variables\n",
    "start = 3\n",
    "stop = 13\n",
    "ccd_type = 'itl'\n",
    "max_signal = 150000.\n",
    "error = 7.0/np.sqrt(2000.)\n",
    "\n",
    "## Get existing overscan analysis results\n",
    "hdulist = fits.open(join(directory, \n",
    "                         '{0}_overscan_results.fits'.format(sensor_id)))\n",
    "\n",
    "cti_results = {i : 0.0 for i in range(1, 17)}\n",
    "drift_scales = {i : 0.0 for i in range(1, 17)}\n",
    "decay_times = {i : 0.0 for i in range(1, 17)}\n",
    "\n",
    "## CCD geometry info\n",
    "ncols = ITL_AMP_GEOM.nx + ITL_AMP_GEOM.prescan_width\n",
    "\n",
    "for amp in range(1, 17):\n",
    "\n",
    "    ## Signals\n",
    "    all_signals = hdulist[amp].data['FLATFIELD_SIGNAL']\n",
    "    signals = all_signals[all_signals<max_signal]\n",
    "\n",
    "    ## Data\n",
    "    data = hdulist[amp].data['COLUMN_MEAN'][all_signals<max_signal, \n",
    "                                            start:stop+1]\n",
    "\n",
    "    params = Parameters()\n",
    "    params.add('ctiexp', value=-6, min=-7, max=-5, vary=False)\n",
    "    params.add('trapsize', value=0.0, min=0., max=10., vary=False)\n",
    "    params.add('scaling', value=0.08, min=0, max=1.0, vary=False)\n",
    "    params.add('emissiontime', value=0.4, min=0.1, max=1.0, vary=False)\n",
    "    params.add('driftscale', value=0.00022, min=0., max=0.001)\n",
    "    params.add('decaytime', value=2.4, min=0.1, max=4.0)\n",
    "\n",
    "    model = SimpleModel()\n",
    "\n",
    "    minner = Minimizer(model.difference, params, \n",
    "                       fcn_args=(signals, data, error, ncols),\n",
    "                       fcn_kws={'start' : start, 'stop' : stop})\n",
    "    result = minner.minimize()\n",
    "\n",
    "    if result.success:\n",
    "\n",
    "        cti = 10**result.params['ctiexp']\n",
    "        drift_scale = result.params['driftscale']\n",
    "        decay_time = result.params['decaytime']\n",
    "        cti_results[amp] = cti\n",
    "        drift_scales[amp] = drift_scale.value\n",
    "        decay_times[amp] = decay_time.value\n",
    "\n",
    "param_results = OverscanParameterResults(sensor_id, \n",
    "                                         cti_results, \n",
    "                                         drift_scales, \n",
    "                                         decay_times)"
   ]
  },
  {
   "cell_type": "markdown",
   "metadata": {},
   "source": [
    "## Low Signal Fitting"
   ]
  },
  {
   "cell_type": "code",
   "execution_count": 9,
   "metadata": {},
   "outputs": [
    {
     "name": "stdout",
     "output_type": "stream",
     "text": [
      "8\n",
      "9\n",
      "{1: 4.782903059936636e-07, 2: 6.329076972190089e-07, 3: 1.0901289324597583e-06, 4: 7.722133931028492e-07, 5: 7.109255223846054e-07, 6: 5.848165607752086e-07, 7: 3.7934814956407077e-07, 8: 4.894211523151182e-06, 9: 5.122726454462956e-07, 10: 6.065713009801495e-07, 11: 7.649513734550127e-07, 12: 6.382880612276435e-07, 13: 7.292096174189216e-07, 14: 7.140729873548113e-07, 15: 6.378176670062388e-07, 16: 4.5771701504584997e-07}\n"
     ]
    }
   ],
   "source": [
    "start = 1\n",
    "stop = 2\n",
    "max_signal = 10000.\n",
    "error = 7.0/np.sqrt(2000.)\n",
    "num_transfers = ITL_AMP_GEOM.nx + ITL_AMP_GEOM.prescan_width\n",
    "\n",
    "cti_results = {amp : 0.0 for amp in range(1, 17)}\n",
    "drift_scales = param_results.drift_scales\n",
    "decay_times = param_results.decay_times\n",
    "\n",
    "ncols = ITL_AMP_GEOM.nx + ITL_AMP_GEOM.prescan_width\n",
    "\n",
    "for amp in range(1, 17):\n",
    "\n",
    "    ## Signals\n",
    "    all_signals = hdulist[amp].data['FLATFIELD_SIGNAL']\n",
    "    signals = all_signals[all_signals<max_signal]\n",
    "\n",
    "    ## Data\n",
    "    data = hdulist[amp].data['COLUMN_MEAN'][all_signals<max_signal, start:stop+1]\n",
    "    \n",
    "    ## CTI test\n",
    "    lastpixel = signals\n",
    "    overscan1 = data[:, 0]\n",
    "    overscan2 = data[:, 1]\n",
    "    test = (overscan1+overscan2)/(ncols*lastpixel)\n",
    "\n",
    "    if np.median(test) > 8.E-6:\n",
    "        print(amp)\n",
    "    \n",
    "        params = Parameters()\n",
    "        params.add('ctiexp', value=-6, min=-7, max=np.log10(5E-6), vary=True)\n",
    "        params.add('trapsize', value=5.0, min=0., max=30., vary=True)\n",
    "        params.add('scaling', value=0.08, min=0, max=1.0, vary=True)\n",
    "        params.add('emissiontime', value=0.35, min=0.1, max=1.0, vary=True)\n",
    "        params.add('driftscale', value=drift_scales[amp], min=0., max=0.001, vary=False)\n",
    "        params.add('decaytime', value=decay_times[amp], min=0.1, max=4.0, vary=False)\n",
    "\n",
    "        model = SimulatedModel()\n",
    "        minner = Minimizer(model.difference, params, fcn_args=(signals, data, error, num_transfers, ITL_AMP_GEOM),\n",
    "                           fcn_kws={'start' : start, 'stop' : stop, 'trap_type' : 'linear'})\n",
    "        result = minner.minimize()\n",
    "\n",
    "    else:\n",
    "    \n",
    "        params = Parameters()\n",
    "        params.add('ctiexp', value=-6, min=-7, max=np.log10(5E-6), vary=True)\n",
    "        params.add('trapsize', value=0.0, min=0., max=10., vary=False)\n",
    "        params.add('scaling', value=0.08, min=0, max=1.0, vary=False)\n",
    "        params.add('emissiontime', value=0.35, min=0.1, max=1.0, vary=False)\n",
    "        params.add('driftscale', value=drift_scales[amp], min=0., max=0.001, vary=False)\n",
    "        params.add('decaytime', value=decay_times[amp], min=0.1, max=4.0, vary=False)\n",
    "\n",
    "        model = SimulatedModel()\n",
    "        minner = Minimizer(model.difference, params, fcn_args=(signals, data, error, num_transfers, ITL_AMP_GEOM),\n",
    "                           fcn_kws={'start' : start, 'stop' : stop, 'trap_type' : 'linear'})\n",
    "        result = minner.minimize()\n",
    "        \n",
    "    cti_results[amp] = 10**result.params['ctiexp'].value\n",
    "\n",
    "param_results.cti_results = cti_results\n",
    "print(param_results.cti_results)\n",
    "outfile = '{0}_parameter_results_test.fits'.format(sensor_id)\n",
    "param_results.write_fits(outfile, overwrite=True)"
   ]
  },
  {
   "cell_type": "raw",
   "metadata": {},
   "source": [
    "<Parameter 'trapsize', value=0.0 (fixed), bounds=[0.0:10.0]>\n",
    "<Parameter 'trapsize', value=0.0 (fixed), bounds=[0.0:10.0]>\n",
    "<Parameter 'trapsize', value=0.0 (fixed), bounds=[0.0:10.0]>\n",
    "<Parameter 'trapsize', value=0.0 (fixed), bounds=[0.0:10.0]>\n",
    "<Parameter 'trapsize', value=0.0 (fixed), bounds=[0.0:10.0]>\n",
    "<Parameter 'trapsize', value=0.0 (fixed), bounds=[0.0:10.0]>\n",
    "<Parameter 'trapsize', value=0.0 (fixed), bounds=[0.0:10.0]>\n",
    "<Parameter 'trapsize', value=19.00301656319625 +/- 0.361, bounds=[0.0:30.0]>\n",
    "<Parameter 'trapsize', value=15.254429983200858 +/- 0.0962, bounds=[0.0:30.0]>\n",
    "<Parameter 'trapsize', value=0.0 (fixed), bounds=[0.0:10.0]>\n",
    "<Parameter 'trapsize', value=0.0 (fixed), bounds=[0.0:10.0]>\n",
    "<Parameter 'trapsize', value=0.0 (fixed), bounds=[0.0:10.0]>\n",
    "<Parameter 'trapsize', value=0.0 (fixed), bounds=[0.0:10.0]>\n",
    "<Parameter 'trapsize', value=0.0 (fixed), bounds=[0.0:10.0]>\n",
    "<Parameter 'trapsize', value=0.0 (fixed), bounds=[0.0:10.0]>\n",
    "<Parameter 'trapsize', value=0.0 (fixed), bounds=[0.0:10.0]>\n",
    "{1: 4.782903059936636e-07, 2: 6.329076972190089e-07, 3: 1.0901289324597583e-06, 4: 7.722133931028492e-07, 5: 7.109255223846054e-07, 6: 5.848165607752086e-07, 7: 3.7934814956407077e-07, 8: 4.894211523151182e-06, 9: 5.122726454462956e-07, 10: 6.065713009801495e-07, 11: 7.649513734550127e-07, 12: 6.382880612276435e-07, 13: 7.292096174189216e-07, 14: 7.140729873548113e-07, 15: 6.378176670062388e-07, 16: 4.5771701504584997e-07}"
   ]
  },
  {
   "cell_type": "markdown",
   "metadata": {},
   "source": [
    "{1: 4.782903059936636e-07, 2: 6.329076972190089e-07, 3: 1.0901289324597583e-06, 4: 7.722133931028492e-07, 5: 7.109255223846054e-07, 6: 5.848165607752086e-07, 7: 3.7934814956407077e-07, 8: 4.894211523151182e-06, 9: 5.122726454462956e-07, 10: 6.065713009801495e-07, 11: 7.649513734550127e-07, 12: 6.382880612276435e-07, 13: 7.292096174189216e-07, 14: 7.140729873548113e-07, 15: 6.378176670062388e-07, 16: 4.5771701504584997e-07}"
   ]
  },
  {
   "cell_type": "markdown",
   "metadata": {},
   "source": [
    "## Make Traps"
   ]
  },
  {
   "cell_type": "code",
   "execution_count": 4,
   "metadata": {},
   "outputs": [],
   "source": [
    "spltraps = {}\n",
    "max_signal = 150000.\n",
    "\n",
    "for amp in range(1, 17):\n",
    "\n",
    "    ## Signals\n",
    "    all_signals = hdulist[amp].data['FLATFIELD_SIGNAL']\n",
    "    signals = all_signals[all_signals<max_signal]\n",
    "\n",
    "    ## Data\n",
    "    data = hdulist[amp].data['COLUMN_MEAN'][all_signals<max_signal, start:stop+1]\n",
    "\n",
    "    ## Second model: model with electronics\n",
    "    params = Parameters()\n",
    "    params.add('ctiexp', value=np.log10(param_results.cti_results[amp]), min=-7, max=-5, vary=False)\n",
    "    params.add('trapsize', value=0.0, min=0., max=10., vary=False)\n",
    "    params.add('scaling', value=0.08, min=0, max=1.0, vary=False)\n",
    "    params.add('emissiontime', value=0.35, min=0.1, max=1.0, vary=False)\n",
    "    params.add('driftscale', value=param_results.drift_scales[amp], min=0., max=0.001, vary=False)\n",
    "    params.add('decaytime', value=param_results.decay_times[amp], min=0.1, max=4.0, vary=False)\n",
    "    model = SimpleModel.model_results(params,signals, num_transfers, start=start, stop=stop)\n",
    "\n",
    "    res = np.sum((data-model)[:, :3], axis=1)\n",
    "    new_signals = hdulist[amp].data['COLUMN_MEAN'][all_signals<max_signal, 0]\n",
    "    rescale = param_results.drift_scales[amp]*new_signals\n",
    "    new_signals = np.asarray(new_signals - rescale, dtype=np.float64)\n",
    "    x = new_signals\n",
    "    y = np.maximum(0, res)\n",
    "\n",
    "    # Pad left with ramp\n",
    "    y = np.pad(y, (10, 0), 'linear_ramp', end_values=(0, 0))\n",
    "    x = np.pad(x, (10, 0), 'linear_ramp', end_values=(0, 0))\n",
    "\n",
    "    # Pad right with constant\n",
    "    y = np.pad(y, (1, 1), 'constant', constant_values=(0, y[-1]))\n",
    "    x = np.pad(x, (1, 1), 'constant', constant_values=(-1, 200000.))\n",
    "\n",
    "    f = interp.interp1d(x, y)\n",
    "    spltrap = SplineTrap(f, 0.4, 1)\n",
    "    pickle.dump(spltrap, open('{0}_amp{1}_traps.pkl'.format(sensor_id, amp), 'wb'))"
   ]
  },
  {
   "cell_type": "markdown",
   "metadata": {},
   "source": [
    "## Checking Fit"
   ]
  },
  {
   "cell_type": "code",
   "execution_count": 5,
   "metadata": {},
   "outputs": [],
   "source": [
    "## Make ramp image from data\n",
    "max_signal = 150000.\n",
    "amp = 16\n",
    "ncols = ITL_AMP_GEOM.nx+ITL_AMP_GEOM.prescan_width\n",
    "\n",
    "all_signals = hdulist[amp].data['FLATFIELD_SIGNAL']\n",
    "signals = all_signals[all_signals<max_signal]\n",
    "data = hdulist[amp].data['COLUMN_MEAN'][all_signals<max_signal, :]\n",
    "\n",
    "imarr = np.zeros((data.shape[0], ncols+data.shape[1]))\n",
    "ramp = np.tile(signals, (ITL_AMP_GEOM.nx, 1)).T\n",
    "imarr[:, ITL_AMP_GEOM.prescan_width:ncols] = ramp\n",
    "imarr[:, ncols:] = data"
   ]
  },
  {
   "cell_type": "code",
   "execution_count": 6,
   "metadata": {},
   "outputs": [],
   "source": [
    "## See what electronics correction does\n",
    "param_results = OverscanParameterResults.from_fits('{0}_parameter_results.fits'.format(sensor_id))\n",
    "E = electronics_operator(imarr, param_results.drift_scales[amp],\n",
    "                         param_results.decay_times[amp],\n",
    "                         num_previous_pixels=15)\n",
    "\n",
    "corrected_electronics = imarr-E\n",
    "\n",
    "## See what trap correction does\n",
    "cti = param_results.cti_results[amp]\n",
    "trap = pickle.load(open('{0}_amp{1}_traps.pkl'.format(sensor_id, amp), 'rb'))\n",
    "T = trap_operator(imarr, trap)\n",
    "corrected = corrected_electronics-(1-cti)*T"
   ]
  },
  {
   "cell_type": "code",
   "execution_count": 7,
   "metadata": {},
   "outputs": [
    {
     "data": {
      "text/plain": [
       "Text(0, 0.5, 'Serial CTI')"
      ]
     },
     "execution_count": 7,
     "metadata": {},
     "output_type": "execute_result"
    },
    {
     "data": {
      "image/png": "[encoded data removed]",
      "text/plain": [
       "<Figure size 864x720 with 1 Axes>"
      ]
     },
     "metadata": {
      "needs_background": "light"
     },
     "output_type": "display_data"
    }
   ],
   "source": [
    "oscan1 = corrected[:, 513]\n",
    "oscan2 = corrected[:, 514]\n",
    "lastpix = corrected[:, 512]\n",
    "cti_results = (oscan1+oscan2)/(lastpix*ncols)\n",
    "\n",
    "new_signals = np.mean(corrected[:, 50:450], axis=1)\n",
    "\n",
    "fig, ax = plt.subplots(1, 1, figsize=(12, 10))\n",
    "ax.plot(new_signals, cti_results)\n",
    "ax.axhline(y=5.E-6, linestyle='--', color='black')\n",
    "\n",
    "ax.tick_params(axis='x', labelsize=14)\n",
    "ax.tick_params(axis='y', labelsize=14)\n",
    "ax.tick_params(axis='both', which='major', length=8, width=1)\n",
    "ax.tick_params(axis='both', which='minor', length=4, width=1)\n",
    "ax.set_ylim(bottom=7E-8, top=2E-4)\n",
    "ax.set_xlim(left=50.0, right=240000.)\n",
    "ax.set_xscale('log')\n",
    "ax.set_yscale('log')\n",
    "ax.grid(True, which='major', axis='both')\n",
    "ax.set_xlabel('Flat Field Signal [e-]', fontsize=18)\n",
    "ax.set_ylabel('Serial CTI', fontsize=18)"
   ]
  },
  {
   "cell_type": "code",
   "execution_count": null,
   "metadata": {},
   "outputs": [],
   "source": []
  },
  {
   "cell_type": "code",
   "execution_count": null,
   "metadata": {},
   "outputs": [],
   "source": []
  },
  {
   "cell_type": "code",
   "execution_count": 11,
   "metadata": {},
   "outputs": [
    {
     "data": {
      "image/png": "[encoded data removed]",
      "text/plain": [
       "<Figure size 1152x576 with 4 Axes>"
      ]
     },
     "metadata": {
      "needs_background": "light"
     },
     "output_type": "display_data"
    }
   ],
   "source": [
    "param_results = OverscanParameterResults.from_fits(outfile)\n",
    "\n",
    "max_signal = 150000.\n",
    "error = 7.2/np.sqrt(2000.)\n",
    "\n",
    "start = 1\n",
    "stop = 15\n",
    "num_transfers = 512\n",
    "\n",
    "amp = 9\n",
    "\n",
    "## Signals\n",
    "all_signals = hdulist[amp].data['FLATFIELD_SIGNAL']\n",
    "signals = all_signals[all_signals<max_signal]\n",
    "\n",
    "## Data\n",
    "data = hdulist[amp].data['COLUMN_MEAN'][all_signals<max_signal, start:stop+1]\n",
    "\n",
    "## Model\n",
    "params = Parameters()\n",
    "params.add('cti', value=param_results.cti_results[amp], vary=False)\n",
    "params.add('trapsize', value=0.0, min=0., max=10., vary=False)\n",
    "params.add('scaling', value=0.08, min=0, max=1.0, vary=False)\n",
    "params.add('emissiontime', value=0.35, min=0.1, max=1.0, vary=False)\n",
    "params.add('driftscale', value=param_results.drift_scales[amp], min=0., max=0.001, vary=False)\n",
    "params.add('decaytime', value=param_results.decay_times[amp], min=0.1, max=4.0, vary=False)\n",
    "model = SimulatedModel.model_results(params,signals, num_transfers, start=start, stop=stop, \n",
    "                                     amp_geom=ITL_AMP_GEOM, trap_type=None)\n",
    "\n",
    "## Setting up PColor plot\n",
    "vmin = 0.0\n",
    "vmax = np.max(data)\n",
    "y=signals\n",
    "x=np.arange(start, stop+1)\n",
    "X,Y=np.meshgrid(x, y)\n",
    "\n",
    "fig, axes = plt.subplots(1, 3, figsize=(16, 8), sharey=True)\n",
    "im0 = axes[0].pcolor(X, Y, data, \n",
    "                     norm=SymLogNorm(1.0), vmin=vmin, vmax=vmax)\n",
    "im1 = axes[1].pcolor(X, Y, model, \n",
    "                     norm=SymLogNorm(1.0), vmin=vmin, vmax=vmax)\n",
    "im2 = axes[2].pcolor(X, Y, data-model,\n",
    "                     norm=SymLogNorm(1.0), vmin=vmin, vmax=vmax)\n",
    "axes[0].set_yscale('log')\n",
    "axes[0].set_ylabel('Flat Field Signal', fontsize=18)\n",
    "axes[0].set_xlabel('Overscan Pixel Number', fontsize=18)\n",
    "axes[0].tick_params(axis='both', which='major', labelsize=12)\n",
    "axes[0].set_title('Data', fontsize=18)\n",
    "axes[1].tick_params(axis='both', which='major', labelsize=12)\n",
    "axes[1].set_xlabel('Overscan Pixel Number', fontsize=18)\n",
    "axes[1].set_title('Simulation', fontsize=18)\n",
    "axes[2].tick_params(axis='both', which='major', labelsize=12)\n",
    "axes[2].set_xlabel('Overscan Pixel Number', fontsize=18)\n",
    "axes[2].set_title('Residual', fontsize=18)\n",
    "fig.subplots_adjust(right=0.85)\n",
    "cbar_ax = fig.add_axes([0.87, 0.14, 0.02, 0.72])\n",
    "cbar= fig.colorbar(im0, cax=cbar_ax)\n",
    "cbar.set_label('Pixel Signal [e-]', fontsize=18)\n",
    "cbar.ax.tick_params(labelsize=14)"
   ]
  },
  {
   "cell_type": "code",
   "execution_count": null,
   "metadata": {},
   "outputs": [],
   "source": []
  }
 ],
 "metadata": {
  "kernelspec": {
   "display_name": "Python 3",
   "language": "python",
   "name": "python3"
  },
  "language_info": {
   "codemirror_mode": {
    "name": "ipython",
    "version": 3
   },
   "file_extension": ".py",
   "mimetype": "text/x-python",
   "name": "python",
   "nbconvert_exporter": "python",
   "pygments_lexer": "ipython3",
   "version": "3.7.3"
  }
 },
 "nbformat": 4,
 "nbformat_minor": 2
}
