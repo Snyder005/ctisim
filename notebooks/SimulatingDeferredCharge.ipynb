{
 "cells": [
  {
   "cell_type": "markdown",
   "metadata": {},
   "source": [
    "# Introduction\n",
    "\n",
    "If deferred charge causes bright spots to be stretched out, then we expect that when we measure the moments of the spots, they will become larger.  But how \"much\" deferred charge do we need for the effect to become noticeable? In particular, since each pixel of the image has a noise to it (question for reader: what are these sources?) can we even detect any changes in the moments of the spots?\n",
    "\n",
    "It will be difficult to study the relation between deferred charge and the changes to spot size because of a number of factors:\n",
    "* Real images will have the above mentioned noise.\n",
    "* The original sizes of the spots, before any deferred charge effects, may be unknown.\n",
    "* There may be other effects that change the sizes of the spots.\n",
    "* The exact properties of the deferred charge may be unknown.\n",
    "\n",
    "For these reasons it may be easier to study this relation using simulated data, where the one has much more control over the images.\n",
    "\n",
    "## Notebook Description\n",
    "\n",
    "This notebook is designed to get you started on simulating different deferred charge effects on simulated images of spots. The steps outlined are:\n",
    "\n",
    "* Set-up a deferred charge simulator.\n",
    "* Apply the desired deferred charge to an image."
   ]
  },
  {
   "cell_type": "code",
   "execution_count": 3,
   "metadata": {},
   "outputs": [],
   "source": [
    "import matplotlib.pyplot as plt\n",
    "\n",
    "from lsst.eotest.sensor.spotTask import SpotTask, make_ccd_mosaic\n",
    "\n",
    "from ctisim import BaseOutputAmplifier, FloatingOutputAmplifier\n",
    "from ctisim import LinearTrap, LogisticTrap\n",
    "from ctisim import ImageSimulator"
   ]
  },
  {
   "cell_type": "markdown",
   "metadata": {},
   "source": [
    "# Set-up a Deferred Charge Simulation\n",
    "\n",
    "You might be wondering what the sources of deferred charge even are.  In fact there are many sources, whose properties are dictated by a number of different physics principles.\n",
    "\n",
    "The most simple is referred to as \"global charge transfer inefficiency\". Let's consider that at each pixel transfer, a fixed fraction of the charge is always left behind, perhaps because we are transfer the charge quickly and not given the electrons enough time to move to the next pixel.  This fixed fraction of charge left behind is the charge transfer inefficiency.  For CCDs that require a large number of transfers, this fraction must be very, very small.  If not, since this type of deferred charge occurs at each transfer, the accumulated effect can grow extremely big.  This type of deferred charge will affect all the pixels (hence, the \"global\" in the name), and pixels that are further from the output amplifier will be more strongly affected.\n",
    "\n",
    "Consider what happens if, at some location in the CCD, there is a region where electrons have a tendency to get \"stuck\", taking a little bit of time to escape and join their brethren in being transported to the output amplifier. We refer to these locations as charge traps. Depending on how many electrons get stuck at each location and how long it takes them to get unstuck, the deferred charge caused by this can be quite large or very small.  Only charge that encounters the trap during it's journey to the output amplifir will be affected.\n",
    "\n",
    "Finally, what happens if instead of electrons being left behind, there is some property of the amplifier that makes it look like the CCD has a lot of deferred charge? These electronic effects can be particularly difficult to distinguish from other deferred charge effects. All pixels will tend to be affected in a similar behavior, though these effects may depend on how much charge is in each pixel, referred to as \"signal-dependent\" electronic effects.\n",
    "\n",
    "Anyways, the best way to see how each of the above effects actually changes the CCD images is to play around with them. To do this we will use the tools provided by `ctisim` to setup up a simulator that will take an existing simulated image of spots and smear it out according to our desired deferred charge behavior.\n",
    "\n",
    "First let's take a look at a simulated spot image."
   ]
  },
  {
   "cell_type": "code",
   "execution_count": null,
   "metadata": {},
   "outputs": [],
   "source": [
    "## First let's see what the original image looks like\n",
    "infile = '../examples/data/ITL_simulated_spot_image.fits'\n",
    "\n",
    "## The simulated image doesn't need as much data reduction\n",
    "ccd_image = make_ccd_mosaic(infile)\n",
    "\n",
    "## Get image array\n",
    "imarr = ccd_image.getArray()\n",
    "\n",
    "## Plot images side-by-side\n",
    "fig, ax = plt.subplots(1, 1, figsize=(12, 10), sharey=True)\n",
    "im0 = ax.imshow(imarr, origin='lower', vmin=10, vmax = 50000.)\n",
    "ax.set_ylabel('Pixel', fontsize=14)\n",
    "ax.set_xlabel('Pixel', fontsize=14)\n",
    "ax.set_title('Original Image', fontsize=16)\n",
    "\n",
    "## Add a global colorbar\n",
    "fig.subplots_adjust(right=0.89)\n",
    "cbar_ax = fig.add_axes([0.9, 0.2, 0.02, 0.6])\n",
    "cbar = fig.colorbar(im0, cax=cbar_ax)\n",
    "cbar.set_label('Flux [e-]', fontsize=14)"
   ]
  },
  {
   "cell_type": "markdown",
   "metadata": {},
   "source": [
    "We'll also run the SpotTask to get a \"before\" catalog of the spot properties."
   ]
  },
  {
   "cell_type": "code",
   "execution_count": null,
   "metadata": {},
   "outputs": [],
   "source": [
    "## Set up the task and configure some settings\n",
    "spottask = SpotTask()\n",
    "spottask.config.verbose = False\n",
    "spottask.config.output_dir = '../examples/data/'\n",
    "spottask.config.characterize_minpixels = 2\n",
    "spottask.config.characterize_nsig = 4\n",
    "spottask.config.calibrate_minpixels = 4\n",
    "spottask.config.characterize_nsig = 25\n",
    "spottask.config.output_file = 'ITL_simulated_source_catalog.cat'\n",
    "spottask.config.verbose = True\n",
    "\n",
    "## Now run the task\n",
    "spottask.run('ITL_simulated', infile, gains={1.0 for i in range(1, 17)})"
   ]
  },
  {
   "cell_type": "markdown",
   "metadata": {},
   "source": [
    "Now to play around with some deferred charge settings, starting first with just global CTI."
   ]
  },
  {
   "cell_type": "code",
   "execution_count": null,
   "metadata": {},
   "outputs": [],
   "source": [
    "## Set a value for the global CTI\n",
    "b = 1.E-6\n",
    "\n",
    "## Set up a basic output amplifier (no electronics effects)\n",
    "output_amps = {amp : BaseOutputAmplifier(1.0) for amp in range(1, 17)}\n",
    "\n",
    "infile = 'ITL_simulated_spot_image.fits'\n",
    "\n",
    "## Create an ImageSimulator and process\n",
    "imsim = ImageSimulator.from_image_fits(infile, output_amps, cti=cti_dict)\n",
    "imarr_results = imsim.image_readout(infile, outfile='ITL_processed_spot_image.fits')"
   ]
  },
  {
   "cell_type": "markdown",
   "metadata": {},
   "source": [
    "Above we have created an `ImageSimulator` object that takes in an existing image and processes it according to the global CTI, trap, and output amplifier settings. Behind the scenes the `ImageSimulator` is simulating the read-out process on the image, just like what actually occurs within the CCD.\n",
    "\n",
    "Now let's see how the spots have changed by running the SpotTask on these new spots that have been subject to the deferred charge we specified."
   ]
  },
  {
   "cell_type": "code",
   "execution_count": null,
   "metadata": {},
   "outputs": [],
   "source": [
    "## Set up the task and configure some settings\n",
    "spottask = SpotTask()\n",
    "spottask.config.verbose = False\n",
    "spottask.config.output_dir = '../examples/data/'\n",
    "spottask.config.characterize_minpixels = 2\n",
    "spottask.config.characterize_nsig = 4\n",
    "spottask.config.calibrate_minpixels = 4\n",
    "spottask.config.characterize_nsig = 25\n",
    "spottask.config.output_file = 'ITL_processed_source_catalog.cat'\n",
    "spottask.config.verbose = True\n",
    "\n",
    "## Now run the task\n",
    "spottask.run('ITL_processed', infile, gains={1.0 for i in range(1, 17)})"
   ]
  },
  {
   "cell_type": "markdown",
   "metadata": {},
   "source": [
    "Finally, let's create a plot and take a look at the results. Can you notice any change?"
   ]
  },
  {
   "cell_type": "code",
   "execution_count": null,
   "metadata": {},
   "outputs": [],
   "source": [
    "catalog = '../examples/data/ITL_processed_source_catalog.cat'\n",
    "\n",
    "## Get x/y/z arrays from the source catalog.\n",
    "X = src['base_SdssShape_x']\n",
    "Y = src['base_SdssShape_y']\n",
    "Z = src['base_SdssShape_xx'] # one of the many ways of measuring how bright the spot is\n",
    "\n",
    "## Scatter plot x/y positions and flux value as the color parameter\n",
    "fig, ax = plt.subplots(1, 1, figsize=(12.5, 10))\n",
    "cax = ax.scatter(X, Y, c=Z, marker='o', s=15, vmin=4., vmax=6.)\n",
    "ax.set_ylabel('Pixel Number', fontsize=12)\n",
    "ax.set_xlabel('Pixel Number', fontsize=12)\n",
    "cbar = fig.colorbar(cax)\n",
    "cbar.set_label('Count', fontsize=12)\n",
    "\n",
    "## Plot the CCD amplifier geometry (for an ITL sensor)\n",
    "for i in range(3):\n",
    "    ax.plot(np.asarray([0, 513*8]), np.asarray([i*2000, i*2000]), 'grey')\n",
    "for i in range(9):\n",
    "    ax.plot(np.asarray([513*i, 513*i]), np.asarray([0, 4000]), 'grey')"
   ]
  },
  {
   "cell_type": "markdown",
   "metadata": {},
   "source": [
    "How high do you need to increase the global CTI to, before changes to the size of the spots are visible? Try playing with the value of the global CTI parameter.  \n",
    "\n",
    "NOTE: You may have to change the `vmin` and `vmax` parameters in the `ax.scatter()` so that you can see small changes in the spot size."
   ]
  },
  {
   "cell_type": "code",
   "execution_count": null,
   "metadata": {},
   "outputs": [],
   "source": []
  }
 ],
 "metadata": {
  "kernelspec": {
   "display_name": "Python 3",
   "language": "python",
   "name": "python3"
  },
  "language_info": {
   "codemirror_mode": {
    "name": "ipython",
    "version": 3
   },
   "file_extension": ".py",
   "mimetype": "text/x-python",
   "name": "python",
   "nbconvert_exporter": "python",
   "pygments_lexer": "ipython3",
   "version": "3.7.3"
  }
 },
 "nbformat": 4,
 "nbformat_minor": 2
}
