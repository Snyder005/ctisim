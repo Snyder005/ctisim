{
 "cells": [
  {
   "cell_type": "code",
   "execution_count": 71,
   "metadata": {},
   "outputs": [],
   "source": [
    "%matplotlib inline\n",
    "\n",
    "import numpy as np\n",
    "import scipy\n",
    "import os\n",
    "from astropy.io import fits\n",
    "from ctisim.utils import ITL_AMP_GEOM, E2V_AMP_GEOM, OverscanParameterResults\n",
    "from ctisim.fitting import OverscanFitting, BiasDriftSimpleModel"
   ]
  },
  {
   "cell_type": "markdown",
   "metadata": {},
   "source": [
    "## Overscan Fitting Task"
   ]
  },
  {
   "cell_type": "code",
   "execution_count": 72,
   "metadata": {},
   "outputs": [],
   "source": [
    "## Config variables\n",
    "start = 3\n",
    "stop = 15\n",
    "ccd_type = 'itl'\n",
    "max_signal = 140000.\n",
    "min_signal = 20000.\n",
    "\n",
    "## User provided variables\n",
    "read_noise = 7.0\n",
    "sensor_id = 'R20_S02'\n",
    "overscan_results_file = '/nfs/slac/g/ki/ki19/lsst/snyder18/LSST/Data/BOT/6790D_linearity/R20/S02/R20_S02_overscan_results.fits'\n",
    "output_dir = './'"
   ]
  },
  {
   "cell_type": "code",
   "execution_count": 73,
   "metadata": {},
   "outputs": [
    {
     "name": "stdout",
     "output_type": "stream",
     "text": [
      "-7.0 2.105900952867435 2.551489741421981\n",
      "-7.0 2.2900137898102937 2.434242486580656\n",
      "-7.0 2.271742272107894 2.3186322495077407\n",
      "-7.0 2.0657611684712 2.4137333659471847\n",
      "-7.0 1.996850955941276 2.554835932470865\n",
      "-7.0 2.0677733393571054 2.5366589487312448\n",
      "-7.0 2.1922221478097277 2.5417780761583804\n",
      "-7.0 1.5482717840660407 2.257761376125488\n",
      "-7.0 1.5958712936140138 2.418767435714549\n",
      "-7.0 2.2338518525913345 2.5061217425337086\n",
      "-7.0 2.1887768007593733 2.276517023303051\n",
      "-7.0 2.027794960383091 2.4924283906068396\n",
      "-7.0 1.901458792726938 2.4507042141320308\n",
      "-7.0 1.8863409846296944 2.5647289938336773\n",
      "-7.0 2.134677475193016 2.4603100711108308\n",
      "-7.0 1.935922222112447 2.610053513135259\n"
     ]
    }
   ],
   "source": [
    "cti_results = {i : 0.0 for i in range(1, 17)}\n",
    "drift_scales = {i : 0.0 for i in range(1, 17)}\n",
    "decay_times = {i : 0.0 for i in range(1, 17)}\n",
    "\n",
    "if ccd_type == 'itl':\n",
    "    ncols = ITL_AMP_GEOM.nx + ITL_AMP_GEOM.prescan_width\n",
    "if ccd_type == 'e2v':\n",
    "    ncols = E2V_AMP_GEOM.nx + E2V_AMP_GEOM.prescan_width\n",
    "\n",
    "hdulist = fits.open(overscan_results_file)\n",
    "    \n",
    "for amp in range(1, 17):\n",
    "    \n",
    "    signals_all = hdulist[amp].data['FLATFIELD_SIGNAL']\n",
    "    data_all = hdulist[amp].data['COLUMN_MEAN'][:, ncols+start-1:ncols+stop]\n",
    "    indices = (signals_all < max_signal)*(signals_all>min_signal)\n",
    "    signals = signals_all[indices]\n",
    "    data = data_all[indices]\n",
    "    \n",
    "    params0 = [-7., 2.0, 2.5]\n",
    "    constraints = [(-7., -7.), (0., 10.), (0.01, 4.0)]\n",
    "    \n",
    "    fitting_task = OverscanFitting(params0, constraints, BiasDriftSimpleModel,\n",
    "                                   start=start, stop=stop)\n",
    "    fit_results = scipy.optimize.minimize(fitting_task.negative_loglikelihood,\n",
    "                                          params0,\n",
    "                                          args=(signals, data, read_noise/np.sqrt(2000.), ncols),\n",
    "                                          bounds=constraints, method='SLSQP')\n",
    "    \n",
    "    if fit_results.success:\n",
    "        ctiexp, drift_scale, decay_time = fit_results.x\n",
    "        cti_results[amp] = 10**ctiexp\n",
    "        drift_scales[amp] = drift_scale/10000.\n",
    "        decay_times[amp] = decay_time\n",
    "        print(ctiexp, drift_scale, decay_time)\n",
    "    else:\n",
    "        num_failures += 1\n",
    "        print(sensor_id, amp)\n",
    "        print(fit_results)\n",
    "        \n",
    "outfile = os.path.join(output_dir, '{0}_overscan_fit_results.fits'.format(sensor_id))\n",
    "parameter_results = OverscanParameterResults(sensor_id, cti_results, drift_scales, decay_times)\n",
    "parameter_results.write_fits(outfile, overwrite=True)"
   ]
  },
  {
   "cell_type": "markdown",
   "metadata": {},
   "source": [
    "## CTI Fitting Task"
   ]
  },
  {
   "cell_type": "code",
   "execution_count": 74,
   "metadata": {},
   "outputs": [],
   "source": [
    "## Config variables\n",
    "start = 1\n",
    "stop = 4\n",
    "ccd_type = 'itl'\n",
    "max_signal = 5000.\n",
    "\n",
    "## User provided variables\n",
    "read_noise = 7.0\n",
    "sensor_id = 'R20_S02'\n",
    "overscan_results_file = '/nfs/slac/g/ki/ki19/lsst/snyder18/LSST/Data/BOT/6790D_linearity/R20/S02/R20_S02_overscan_results.fits'\n",
    "parameter_results_file = outfile # file from above\n",
    "output_dir = './'"
   ]
  },
  {
   "cell_type": "code",
   "execution_count": 75,
   "metadata": {},
   "outputs": [
    {
     "name": "stdout",
     "output_type": "stream",
     "text": [
      "-6.277654788704249 2.105900930473581 2.55148983001709\n",
      "-6.201521497656633 2.2900137992110103 2.4342424869537354\n",
      "-6.0693723498265095 2.2717422689311206 2.3186323642730713\n",
      "-6.108032745199523 2.0657612185459584 2.41373348236084\n",
      "-6.148689373396013 1.9968509150203317 2.5548360347747803\n",
      "-6.214019557618906 2.0677733118645847 2.536659002304077\n",
      "R20_S02 7\n",
      "Flagged for MCMC.\n",
      "-6.365799820235675 1.5482718299608678 2.2577614784240723\n",
      "R20_S02 9\n",
      "Flagged for MCMC.\n",
      "-5.953530383968964 2.2338518465403467 2.5061216354370117\n",
      "-6.164439344934131 2.1887768525630236 2.276516914367676\n",
      "-6.071011160392802 2.0277949806768447 2.4924283027648926\n",
      "-6.172733358823932 1.9014587451238185 2.4507040977478027\n",
      "-6.15372403076951 1.8863410514313728 2.5647289752960205\n",
      "-6.285570785334125 2.1346774883568287 2.4603099822998047\n",
      "-6.190463606418635 1.935922191478312 2.610053539276123\n"
     ]
    }
   ],
   "source": [
    "cti_results = {i : 0.0 for i in range(1, 17)}\n",
    "\n",
    "hdulist = fits.open(overscan_results_file)\n",
    "mcmc_amps = []\n",
    "\n",
    "if ccd_type == 'itl':\n",
    "    ncols = ITL_AMP_GEOM.nx + ITL_AMP_GEOM.prescan_width\n",
    "if ccd_type == 'e2v':\n",
    "    ncols = E2V_AMP_GEOM.nx + E2V_AMP_GEOM.prescan_width\n",
    "    \n",
    "parameter_results = OverscanParameterResults.from_fits(parameter_results_file)\n",
    "\n",
    "for amp in range(1, 17):\n",
    "    \n",
    "    signals_all = hdulist[amp].data['FLATFIELD_SIGNAL']\n",
    "    data_all = hdulist[amp].data['COLUMN_MEAN'][:, ncols+start-1:ncols+stop]\n",
    "    indices = (signals_all < max_signal)\n",
    "    signals = signals_all[indices]\n",
    "    data = data_all[indices]\n",
    "    \n",
    "    output_amplifier = parameter_results.single_output_amplifier(amp, 1.)\n",
    "    drift_scale = output_amplifier.scale*10000.\n",
    "    decay_time = output_amplifier.decay_time\n",
    "    \n",
    "    params0 = [-6., drift_scale, decay_time]\n",
    "    constraints = [(-6.8, -5.5), (drift_scale, drift_scale), (decay_time, decay_time)]\n",
    "    \n",
    "    fitting_task = OverscanFitting(params0, constraints, BiasDriftSimpleModel,\n",
    "                                   start=start, stop=stop)\n",
    "    fit_results = scipy.optimize.minimize(fitting_task.negative_loglikelihood,\n",
    "                                          params0,\n",
    "                                          args=(signals, data, read_noise/np.sqrt(2000.), ncols),\n",
    "                                          bounds=constraints, method='SLSQP')\n",
    "    \n",
    "    if not fit_results.success:\n",
    "        num_failures += 1\n",
    "        print(sensor_id, amp)\n",
    "        print(fit_results)\n",
    "    else:\n",
    "        ctiexp, drift_scale, decay_time = fit_results.x\n",
    "        if  ctiexp > -5.6:\n",
    "            mcmc_amps.append(amp)\n",
    "            print(sensor_id, amp)\n",
    "            print(\"Flagged for MCMC.\")\n",
    "        else:\n",
    "            cti_results[amp] = 10**ctiexp\n",
    "            print(ctiexp, drift_scale, decay_time)\n",
    "            \n",
    "parameter_results.cti_results = cti_results\n",
    "parameter_results.write_fits(outfile, overwrite=True)"
   ]
  },
  {
   "cell_type": "markdown",
   "metadata": {},
   "source": [
    "## Low Trap MCMC Fitting"
   ]
  },
  {
   "cell_type": "code",
   "execution_count": 76,
   "metadata": {},
   "outputs": [],
   "source": [
    "from ctisim.fitting import JointSimulatedModel\n",
    "from ctisim.core import LinearTrap\n",
    "from ctisim.utils import save_mcmc_results\n",
    "import emcee\n",
    "\n",
    "\n",
    "## Config variables\n",
    "start = 1\n",
    "stop = 4\n",
    "ccd_type = 'itl'\n",
    "max_signal = 5000.\n",
    "\n",
    "## User provided variables\n",
    "read_noise = 7.0\n",
    "sensor_id = 'R20_S02'\n",
    "overscan_results_file = '/nfs/slac/g/ki/ki19/lsst/snyder18/LSST/Data/BOT/6790D_linearity/R20/S02/R20_S02_overscan_results.fits'\n",
    "parameter_results_file = outfile # file from above\n",
    "output_dir = './'\n",
    "nwalkers = 8\n",
    "nsteps = 100\n",
    "burnin = 10"
   ]
  },
  {
   "cell_type": "code",
   "execution_count": 77,
   "metadata": {},
   "outputs": [
    {
     "name": "stdout",
     "output_type": "stream",
     "text": [
      "-5.764386278103477\n",
      "-5.928356689330895\n"
     ]
    }
   ],
   "source": [
    "hdulist = fits.open(overscan_results_file)\n",
    "parameter_results = OverscanParameterResults.from_fits(parameter_results_file)\n",
    "\n",
    "for amp in mcmc_amps:\n",
    "    \n",
    "    signals_all = hdulist[amp].data['FLATFIELD_SIGNAL']\n",
    "    data_all = hdulist[amp].data['COLUMN_MEAN'][:, ncols+start-1:ncols+stop]\n",
    "    indices = (signals_all < max_signal)\n",
    "    signals = signals_all[indices]\n",
    "    data = data_all[indices]   \n",
    "    \n",
    "    output_amplifier = parameter_results.single_output_amplifier(amp, 1.)\n",
    "    \n",
    "    ## MCMC Fit\n",
    "    params0 = [-6.0, 3.5, 0.4, 0.08]\n",
    "    constraints = [(-7, -5.3), (0., 10.), (0.01, 1.0), (0.001, 1.0)]\n",
    "    overscan_fitting = OverscanFitting(params0, constraints, JointSimulatedModel, start=start, stop=stop)\n",
    "\n",
    "    scale = (0.4, 0.5, 0.05, 0.005)\n",
    "    pos = overscan_fitting.initialize_walkers(scale, nwalkers)\n",
    "    \n",
    "    args = (signals, data, read_noise/np.sqrt(2000.), ITL_AMP_GEOM, LinearTrap, output_amplifier)\n",
    "    sampler = emcee.EnsembleSampler(nwalkers, len(params0), overscan_fitting.logprobability, args=args)\n",
    "    sampler.run_mcmc(pos, nsteps)\n",
    "    \n",
    "    save_mcmc_results(sensor_id, amp, sampler.chain, outfile, LinearTrap)\n",
    "    \n",
    "    ctiexp = np.median(sampler.chain[:, burnin:, 0])\n",
    "    print(ctiexp)\n",
    "    parameter_results.cti_results[amp] = 10**ctiexp\n",
    "    \n",
    "parameter_results.write_fits(outfile, overwrite=True)"
   ]
  },
  {
   "cell_type": "code",
   "execution_count": 78,
   "metadata": {},
   "outputs": [
    {
     "name": "stdout",
     "output_type": "stream",
     "text": [
      "{1: 5.276491e-07, 2: 6.2875074e-07, 3: 8.52369e-07, 4: 7.797713e-07, 5: 7.100855e-07, 6: 6.109145e-07, 7: 1.7203378e-06, 8: 4.307251e-07, 9: 1.1793517e-06, 10: 1.1129346e-06, 11: 6.847951e-07, 12: 8.4915865e-07, 13: 6.7184124e-07, 14: 7.019012e-07, 15: 5.181186e-07, 16: 6.449654e-07}\n",
      "{1: 0.0002105901, 2: 0.00022900138, 3: 0.00022717423, 4: 0.00020657612, 5: 0.00019968509, 6: 0.00020677733, 7: 0.00021922222, 8: 0.00015482718, 9: 0.00015958713, 10: 0.00022338518, 11: 0.00021887769, 12: 0.0002027795, 13: 0.00019014587, 14: 0.0001886341, 15: 0.00021346775, 16: 0.00019359222}\n",
      "{1: 2.5514898, 2: 2.4342425, 3: 2.3186324, 4: 2.4137335, 5: 2.554836, 6: 2.536659, 7: 2.541778, 8: 2.2577615, 9: 2.4187675, 10: 2.5061216, 11: 2.276517, 12: 2.4924283, 13: 2.450704, 14: 2.564729, 15: 2.46031, 16: 2.6100535}\n"
     ]
    }
   ],
   "source": [
    "parameter_results = OverscanParameterResults.from_fits(parameter_results_file)\n",
    "\n",
    "print(parameter_results.cti_results)\n",
    "print(parameter_results.drift_scales)\n",
    "print(parameter_results.decay_times)"
   ]
  },
  {
   "cell_type": "code",
   "execution_count": null,
   "metadata": {},
   "outputs": [],
   "source": []
  }
 ],
 "metadata": {
  "kernelspec": {
   "display_name": "Python 3",
   "language": "python",
   "name": "python3"
  },
  "language_info": {
   "codemirror_mode": {
    "name": "ipython",
    "version": 3
   },
   "file_extension": ".py",
   "mimetype": "text/x-python",
   "name": "python",
   "nbconvert_exporter": "python",
   "pygments_lexer": "ipython3",
   "version": "3.7.3"
  }
 },
 "nbformat": 4,
 "nbformat_minor": 2
}
